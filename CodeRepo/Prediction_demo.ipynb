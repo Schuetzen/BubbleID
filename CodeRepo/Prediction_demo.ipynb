{
 "cells": [
  {
   "attachments": {},
   "cell_type": "markdown",
   "metadata": {},
   "source": [
    "# Prediction demonstration\n",
    "The notebook shows how to use the segmentation and hidden part reconstruction to predict bubbles in 2D images. "
   ]
  },
  {
   "cell_type": "code",
   "execution_count": null,
   "metadata": {},
   "outputs": [],
   "source": [
    "import os\n",
    "os.environ['TF_CPP_MIN_LOG_LEVEL']='3'\n",
    "from utils_Segmentation import combinedPrediction,load_img,get_UNet_tf,predict_UNet\n",
    "from csbdeep.utils import normalize\n",
    "from stardist.models import StarDist2D\n",
    "import matplotlib.pyplot as plt\n",
    "import pathlib\n",
    "import tensorflow as tf\n",
    "from utils_StarBub import HiddenReco,SaveCSV_List\n",
    "from tqdm import tqdm\n",
    "from stardist import random_label_cmap\n",
    "import matplotlib\n",
    "matplotlib.rcParams[\"image.interpolation\"] = None\n",
    "%matplotlib inline\n",
    "%config InlineBackend.figure_format = 'retina'\n",
    "\n",
    "lbl_cmap=random_label_cmap()"
   ]
  },
  {
   "attachments": {},
   "cell_type": "markdown",
   "metadata": {},
   "source": [
    "## Processing Settings and loading the Models\n",
    "The models are expected to be in the Models directory situated in the same directory as the notebook. Otherwise the Model_dir needs to be changed. Using GPU is recommend for computational speed."
   ]
  },
  {
   "cell_type": "code",
   "execution_count": null,
   "metadata": {},
   "outputs": [],
   "source": [
    "base_dir=os.path.abspath('')\n",
    "Model_dir='Models/'\n",
    "use_gpu=True # Switch off to use CPU (slower prediction)\n",
    "\n",
    "if use_gpu:\n",
    "    physical_devices=tf.config.list_physical_devices('GPU')\n",
    "    for device in physical_devices:\n",
    "        tf.config.experimental.set_memory_growth(device,True)\n",
    "else: \n",
    "    os.environ['CUDA_VISIBLE_DEVICES']='-1'\n",
    "modelUNet,resizer,axes = get_UNet_tf(Model_dir+'Try_1695892977.135699/')\n",
    "modelSD =StarDist2D(None, name='stardist', basedir=Model_dir+'SDmodel')\n",
    "model = tf.keras.models.load_model(Model_dir+'RDCModel')\n"
   ]
  },
  {
   "attachments": {},
   "cell_type": "markdown",
   "metadata": {},
   "source": [
    "### Example: Predict on a single image\n",
    "The example shows how to predict bubbles by first predicting the segmentations mask with the 'createLabelUNet' and 'combinedPrediction' functions. Afterwards the hidden bubble parts are reconstructed either with the RDC method or by ellipse fitting."
   ]
  },
  {
   "cell_type": "code",
   "execution_count": null,
   "metadata": {},
   "outputs": [],
   "source": [
    "Metric=6.7E-5 # Size of an image pixel in m \n",
    "boolplot=True # Use this for visual inspection.\n",
    "useRDC=True # Switch on to use the RDC method, otherwise ellipse fitting will be used.\n",
    "\n",
    "ImgDir=base_dir+'/Examples/00000.jpg'\n",
    "\n",
    "x=load_img(ImgDir)\n",
    "X=normalize(x if x.ndim==2 else x[...,0], 1,99.8, axis=(0,1))\n",
    "imgMask=predict_UNet(X,modelUNet,resizer,axes)\n",
    "labels,labelsSD=combinedPrediction(X,modelSD,imgMask)\n",
    "if boolplot:\n",
    "    if useRDC==False:\n",
    "        %config InlineBackend.print_figure_kwargs={'bbox_inches': None}\n",
    "    else:\n",
    "        %config InlineBackend.print_figure_kwargs={'bbox_inches': 'tight'}        \n",
    "    _, (ax1,ax2,ax3) = plt.subplots(1,3,figsize=(25,25))\n",
    "    ax1.imshow(X,cmap='gray');ax1.imshow(imgMask,cmap='Reds',alpha=0.5)\n",
    "    ax1.set_axis_off()\n",
    "    ax1.set_title('UNet mask')\n",
    "    ax2.imshow(X,cmap='gray');ax2.imshow(labels,cmap=lbl_cmap,alpha=0.5)\n",
    "    ax2.set_axis_off()\n",
    "    ax2.set_title('Segmentation mask')\n",
    "    ax3.imshow(X,cmap='gray')\n",
    "    ax3.set_axis_off() \n",
    "    ax3.set_title('Hidden part reconstruction')   \n",
    "Bubbles=HiddenReco(labels,Metric,useRDC=useRDC,model=model,boolPlot=boolplot,ax=ax3)\n"
   ]
  },
  {
   "attachments": {},
   "cell_type": "markdown",
   "metadata": {},
   "source": [
    "### Example: Evaluating a set of images\n",
    "This example shows how to evalute a set of images and saving the results."
   ]
  },
  {
   "cell_type": "code",
   "execution_count": null,
   "metadata": {},
   "outputs": [],
   "source": [
    "Metric=6.7E-5 # Size of an image pixel in m\n",
    "useRDC=True # Switch on to use the RDC method, otherwise ellipse fitting will be used.\n",
    "writeOutSingle=False # Toggle this parameter to save the results for every single image.\n",
    "\n",
    "ImgDir=base_dir+'/Examples/'\n",
    "Imgs=sorted(pathlib.Path(ImgDir).glob('*.jpg')) # In practice, use another file identifier here if you do not have jpg images\n",
    "\n",
    "OutDir=ImgDir+'Results/'\n",
    "if os.path.isdir(OutDir)==False:\n",
    "    os.mkdir(OutDir) \n",
    "\n",
    "AllBubbles=[] \n",
    "for i,img in enumerate(tqdm(Imgs,desc='Progress')):\n",
    "    x=load_img(img)\n",
    "    X=normalize(x if x.ndim==2 else x[...,0], 1,99.8, axis=(0,1))\n",
    "    imgMask=predict_UNet(X,modelUNet,resizer,axes)\n",
    "    labels,_=combinedPrediction(X,modelSD,imgMask)\n",
    "    Bubbles=HiddenReco(labels,Metric,timestep=i,useRDC=useRDC,model=model)\n",
    "    if writeOutSingle:\n",
    "        SaveCSV_List(Bubbles,OutDir,img.name,header='X [px],Y [px],Diameter [m],Major [m],Minor [m], Timestep [-]')\n",
    "    AllBubbles+=Bubbles\n",
    "SaveCSV_List(AllBubbles,OutDir,'AllBubbles',header='X [px],Y [px],Diameter [m],Major [m],Minor [m], Timestep [-]')"
   ]
  },
  {
   "attachments": {},
   "cell_type": "markdown",
   "metadata": {},
   "source": [
    "### Prepare for tracking\n",
    "The following example shows how to prepare the *Nodes.pkl* file of the predictions that is needed for the tracking algorithm from *Fate of bubble clusters rising in quiescent liquid* [[Paper]](https://arxiv.org/abs/2306.02101)[[Code]](https://rodare.hzdr.de/record/2316)"
   ]
  },
  {
   "cell_type": "code",
   "execution_count": null,
   "metadata": {},
   "outputs": [],
   "source": [
    "import pandas as pd\n",
    "Metric=6.7E-5\n",
    "ImgDir=base_dir+'/Examples/'\n",
    "Imgs=sorted(pathlib.Path(ImgDir).glob('*.jpg'))\n",
    "point_list=[]\n",
    "for i,img in enumerate(tqdm(Imgs,desc='Progress')):\n",
    "    x=load_img(img)\n",
    "    X=normalize(x if x.ndim==2 else x[...,0], 1,99.8, axis=(0,1))\n",
    "    imgMask=predict_UNet(X,modelUNet,resizer,axes)\n",
    "    labels,_=combinedPrediction(X,modelSD,imgMask)\n",
    "    Bubbles=HiddenReco(labels,Metric,useRDC=True,model=model,tracking=True)\n",
    "    df=pd.DataFrame({'frame':i,'detection_id':[b.ID for b in Bubbles],'posx':[b.Position[1] for b in Bubbles],'posy':[b.Position[0] for b in Bubbles],\n",
    "    'feat':[b.points for b in Bubbles],'size':[b.Diameter for b in Bubbles],'bb_left':[b.Bbox[0] for b in Bubbles]\n",
    "    ,'bb_top':[b.Bbox[1] for b in Bubbles],'bb_right':[b.Bbox[2] for b in Bubbles],'bb_bot':[b.Bbox[3] for b in Bubbles],'tN':[b.occu_rate for b in Bubbles],\n",
    "    'Dia':[b.Dia for b in Bubbles],'Grad':[b.grad for b in Bubbles]})\n",
    "    point_list.append(df)\n",
    "nodes=pd.concat(point_list)\n",
    "nodes.to_pickle(ImgDir+\"/Nodes.pkl\")"
   ]
  },
  {
   "attachments": {},
   "cell_type": "markdown",
   "metadata": {},
   "source": [
    "*Note* The images in the Examples folder have a too large pixel distance for the tracker of *Fate of bubble clusters rising in quiescent liquid*. Please refer to example provided in the [[code repository]](https://rodare.hzdr.de/record/2316) for a suitable bubble displacement. "
   ]
  }
 ],
 "metadata": {
  "kernelspec": {
   "display_name": "Python 3.7.13 ('SDU')",
   "language": "python",
   "name": "python3"
  },
  "language_info": {
   "codemirror_mode": {
    "name": "ipython",
    "version": 3
   },
   "file_extension": ".py",
   "mimetype": "text/x-python",
   "name": "python",
   "nbconvert_exporter": "python",
   "pygments_lexer": "ipython3",
   "version": "3.7.16"
  },
  "orig_nbformat": 4,
  "vscode": {
   "interpreter": {
    "hash": "347fe2372baf084a7334d41b90af1847562237170451b9dd5a1f4f6709b8e04b"
   }
  }
 },
 "nbformat": 4,
 "nbformat_minor": 2
}
